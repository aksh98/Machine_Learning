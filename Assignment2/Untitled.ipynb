{
 "cells": [
  {
   "cell_type": "code",
   "execution_count": 13,
   "metadata": {
    "scrolled": false
   },
   "outputs": [],
   "source": [
    "import sklearn\n",
    "import matplotlib.pyplot as plt \n",
    "import numpy as np\n",
    "import matplotlib\n",
    "import h5py\n",
    "import os\n",
    "import os.path\n",
    "import argparse\n",
    "from sklearn.manifold import TSNE\n",
    "from sklearn import datasets,svm\n",
    "\n"
   ]
  },
  {
   "cell_type": "code",
   "execution_count": 14,
   "metadata": {},
   "outputs": [
    {
     "name": "stderr",
     "output_type": "stream",
     "text": [
      "usage: ipykernel_launcher.py [-h] [--data DATA]\n",
      "                             [--plots_save_dir PLOTS_SAVE_DIR]\n",
      "ipykernel_launcher.py: error: unrecognized arguments: -f /Users/akarsha/Library/Jupyter/runtime/kernel-060f605c-ddcf-432e-acd9-8d4b07f27531.json\n"
     ]
    },
    {
     "ename": "SystemExit",
     "evalue": "2",
     "output_type": "error",
     "traceback": [
      "An exception has occurred, use %tb to see the full traceback.\n",
      "\u001b[0;31mSystemExit\u001b[0m\u001b[0;31m:\u001b[0m 2\n"
     ]
    },
    {
     "name": "stderr",
     "output_type": "stream",
     "text": [
      "/Users/akarsha/anaconda/lib/python3.6/site-packages/IPython/core/interactiveshell.py:2889: UserWarning: To exit: use 'exit', 'quit', or Ctrl-D.\n",
      "  warn(\"To exit: use 'exit', 'quit', or Ctrl-D.\", stacklevel=1)\n"
     ]
    }
   ],
   "source": [
    "parser = argparse.ArgumentParser()\n",
    "parser.add_argument(\"--data\", type = str  )\n",
    "parser.add_argument(\"--plots_save_dir\", type = str  )\n",
    "args = parser.parse_args()\n",
    "\n",
    "filename = args.data\n",
    "\n",
    "hf = h5py.File(filename,'r')\n",
    "features = hf.keys()[0]\n",
    "clss = hf.keys()[1]\n",
    "\n",
    "x = np.array(list(hf[features]))\n",
    "y = np.array(list(hf[clss])) \n",
    "\n",
    "#def kernel(X,Y):\n",
    "#\tfor i in X.shape():\n",
    "#\t\tx[i] = abs(x[i])\n",
    "#\t\ty[i] = abs(y[i])\n",
    "def newk(x,y):\n",
    "\tgamma = 0.1\n",
    "\treturn np.exp(-np.linalg.norm(sx-sy)**2)/float(2*(gamma**2))\n",
    "\n",
    "def kernel(X,Y):\n",
    "    Krnl = np.zeros((X.shape[0],Y.shape[0]))\n",
    "    for i,sx in enumerate(X):\n",
    "        for j,sy in enumerate(Y):\n",
    "        \t#kernel update\n",
    "            Krnl[i,j] = newk(x,y)\n",
    "    return Krnl\n"
   ]
  },
  {
   "cell_type": "code",
   "execution_count": null,
   "metadata": {
    "collapsed": true
   },
   "outputs": [],
   "source": []
  },
  {
   "cell_type": "code",
   "execution_count": null,
   "metadata": {
    "collapsed": true
   },
   "outputs": [],
   "source": []
  }
 ],
 "metadata": {
  "kernelspec": {
   "display_name": "Python 3",
   "language": "python",
   "name": "python3"
  },
  "language_info": {
   "codemirror_mode": {
    "name": "ipython",
    "version": 3
   },
   "file_extension": ".py",
   "mimetype": "text/x-python",
   "name": "python",
   "nbconvert_exporter": "python",
   "pygments_lexer": "ipython3",
   "version": "3.6.1"
  }
 },
 "nbformat": 4,
 "nbformat_minor": 2
}
